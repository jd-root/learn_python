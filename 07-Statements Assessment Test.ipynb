{
 "cells": [
  {
   "cell_type": "markdown",
   "metadata": {
    "collapsed": true
   },
   "source": [
    "# Statements Assessment Test\n",
    "Let's test your knowledge!"
   ]
  },
  {
   "cell_type": "markdown",
   "metadata": {},
   "source": [
    "_____\n",
    "**Use <code>for</code>, .split(), and <code>if</code> to create a Statement that will print out words that start with 's':**"
   ]
  },
  {
   "cell_type": "code",
   "execution_count": 1,
   "metadata": {},
   "outputs": [],
   "source": [
    "st = 'Print only the words that start with s in this sentence'"
   ]
  },
  {
   "cell_type": "code",
   "execution_count": 8,
   "metadata": {},
   "outputs": [
    {
     "name": "stdout",
     "output_type": "stream",
     "text": [
      "start\n",
      "s\n",
      "sentence\n"
     ]
    }
   ],
   "source": [
    "#Code here\n",
    "for word in st.split():\n",
    "    if word[0] == 's' or word[0] == 'S':\n",
    "        print(word)\n",
    "    else:\n",
    "        pass"
   ]
  },
  {
   "cell_type": "markdown",
   "metadata": {},
   "source": [
    "______\n",
    "**Use range() to print all the even numbers from 0 to 10.**"
   ]
  },
  {
   "cell_type": "code",
   "execution_count": 9,
   "metadata": {},
   "outputs": [
    {
     "name": "stdout",
     "output_type": "stream",
     "text": [
      "0\n",
      "2\n",
      "4\n",
      "6\n",
      "8\n",
      "10\n"
     ]
    }
   ],
   "source": [
    "#Code Here\n",
    "for num in range(0,11,2):\n",
    "    print(num)"
   ]
  },
  {
   "cell_type": "code",
   "execution_count": 8,
   "metadata": {},
   "outputs": [
    {
     "data": {
      "text/plain": [
       "[0, 2, 4, 6, 8, 10]"
      ]
     },
     "execution_count": 8,
     "metadata": {},
     "output_type": "execute_result"
    }
   ],
   "source": [
    "#alternative\n",
    "#use simple brackets, square bracks:error:type list is not subscriptable\n",
    "list(range(0,11,2))"
   ]
  },
  {
   "cell_type": "markdown",
   "metadata": {},
   "source": [
    "___\n",
    "**Use a List Comprehension to create a list of all numbers between 1 and 50 that are divisible by 3.**"
   ]
  },
  {
   "cell_type": "code",
   "execution_count": 10,
   "metadata": {},
   "outputs": [
    {
     "data": {
      "text/plain": [
       "[0, 3, 6, 9, 12, 15, 18, 21, 24, 27, 30, 33, 36, 39, 42, 45, 48]"
      ]
     },
     "execution_count": 10,
     "metadata": {},
     "output_type": "execute_result"
    }
   ],
   "source": [
    "#Code in this cell\n",
    "[num for num in range(0,51) if num%3 == 0]"
   ]
  },
  {
   "cell_type": "markdown",
   "metadata": {},
   "source": [
    "_____\n",
    "**Go through the string below and if the length of a word is even print \"even!\"**"
   ]
  },
  {
   "cell_type": "code",
   "execution_count": 15,
   "metadata": {},
   "outputs": [],
   "source": [
    "st = 'Print every word in this sentence that has an even number of letters'"
   ]
  },
  {
   "cell_type": "code",
   "execution_count": 12,
   "metadata": {},
   "outputs": [
    {
     "name": "stdout",
     "output_type": "stream",
     "text": [
      "length of \"only\" is even!\n",
      "length of \"that\" is even!\n",
      "length of \"with\" is even!\n",
      "length of \"in\" is even!\n",
      "length of \"this\" is even!\n",
      "length of \"sentence\" is even!\n"
     ]
    }
   ],
   "source": [
    "#Code in this cell\n",
    "for word in st.split():\n",
    "    if len(word)%2 == 0:\n",
    "        print(f'length of \"{word}\" is even!'.format(word))\n",
    "#else is optional\n",
    "    else:\n",
    "        pass"
   ]
  },
  {
   "cell_type": "code",
   "execution_count": 16,
   "metadata": {},
   "outputs": [
    {
     "data": {
      "text/plain": [
       "['Print',\n",
       " 'every',\n",
       " 'even!',\n",
       " 'even!',\n",
       " 'even!',\n",
       " 'even!',\n",
       " 'even!',\n",
       " 'has',\n",
       " 'even!',\n",
       " 'even!',\n",
       " 'even!',\n",
       " 'even!',\n",
       " 'letters']"
      ]
     },
     "execution_count": 16,
     "metadata": {},
     "output_type": "execute_result"
    }
   ],
   "source": [
    "#using list comprehension\n",
    "['even!' if len(word)%2 == 0 else word for word in st.split()]"
   ]
  },
  {
   "cell_type": "markdown",
   "metadata": {},
   "source": [
    "____\n",
    "**Write a program that prints the integers from 1 to 100. But for multiples of three print \"Fizz\" instead of the number, and for the multiples of five print \"Buzz\". For numbers which are multiples of both three and five print \"FizzBuzz\".**"
   ]
  },
  {
   "cell_type": "code",
   "execution_count": 9,
   "metadata": {},
   "outputs": [
    {
     "name": "stdout",
     "output_type": "stream",
     "text": [
      "1\n",
      "2\n",
      "3:Fizz\n",
      "4\n",
      "5:Buzz\n",
      "6:Fizz\n",
      "7\n",
      "8\n",
      "9:Fizz\n",
      "10:Buzz\n",
      "11\n",
      "12:Fizz\n",
      "13\n",
      "14\n",
      "15:FizzBuzz\n",
      "16\n",
      "17\n",
      "18:Fizz\n",
      "19\n",
      "20:Buzz\n",
      "21:Fizz\n",
      "22\n",
      "23\n",
      "24:Fizz\n",
      "25:Buzz\n",
      "26\n",
      "27:Fizz\n",
      "28\n",
      "29\n",
      "30:FizzBuzz\n",
      "31\n",
      "32\n",
      "33:Fizz\n",
      "34\n",
      "35:Buzz\n",
      "36:Fizz\n",
      "37\n",
      "38\n",
      "39:Fizz\n",
      "40:Buzz\n",
      "41\n",
      "42:Fizz\n",
      "43\n",
      "44\n",
      "45:FizzBuzz\n",
      "46\n",
      "47\n",
      "48:Fizz\n",
      "49\n",
      "50:Buzz\n",
      "51:Fizz\n",
      "52\n",
      "53\n",
      "54:Fizz\n",
      "55:Buzz\n",
      "56\n",
      "57:Fizz\n",
      "58\n",
      "59\n",
      "60:FizzBuzz\n",
      "61\n",
      "62\n",
      "63:Fizz\n",
      "64\n",
      "65:Buzz\n",
      "66:Fizz\n",
      "67\n",
      "68\n",
      "69:Fizz\n",
      "70:Buzz\n",
      "71\n",
      "72:Fizz\n",
      "73\n",
      "74\n",
      "75:FizzBuzz\n",
      "76\n",
      "77\n",
      "78:Fizz\n",
      "79\n",
      "80:Buzz\n",
      "81:Fizz\n",
      "82\n",
      "83\n",
      "84:Fizz\n",
      "85:Buzz\n",
      "86\n",
      "87:Fizz\n",
      "88\n",
      "89\n",
      "90:FizzBuzz\n",
      "91\n",
      "92\n",
      "93:Fizz\n",
      "94\n",
      "95:Buzz\n",
      "96:Fizz\n",
      "97\n",
      "98\n",
      "99:Fizz\n",
      "100:Buzz\n"
     ]
    }
   ],
   "source": [
    "#Code in this cell\n",
    "for num in range(1,101):\n",
    "    if num%3 == 0 and num%5 == 0:\n",
    "        print(f'{num}:FizzBuzz'.format(num))\n",
    "    elif num%5 == 0:\n",
    "        print(f'{num}:Buzz'.format(num))\n",
    "    elif num%3 == 0:\n",
    "        print(f'{num}:Fizz'.format(num))\n",
    "    else:\n",
    "        print(num)"
   ]
  },
  {
   "cell_type": "markdown",
   "metadata": {},
   "source": [
    "____\n",
    "**Use List Comprehension to create a list of the first letters of every word in the string below:**"
   ]
  },
  {
   "cell_type": "code",
   "execution_count": 11,
   "metadata": {},
   "outputs": [
    {
     "data": {
      "text/plain": [
       "'Create a list of the first letters of every word in this string'"
      ]
     },
     "execution_count": 11,
     "metadata": {},
     "output_type": "execute_result"
    }
   ],
   "source": [
    "st = 'Create a list of the first letters of every word in this string'\n",
    "st"
   ]
  },
  {
   "cell_type": "code",
   "execution_count": 19,
   "metadata": {},
   "outputs": [],
   "source": [
    "#Code in this cell\n",
    "#using for and append()\n",
    "mylist = []\n",
    "for word in st.split():\n",
    "    mylist.append(word[0])"
   ]
  },
  {
   "cell_type": "code",
   "execution_count": 18,
   "metadata": {},
   "outputs": [
    {
     "data": {
      "text/plain": [
       "['C', 'a', 'l', 'o', 't', 'f', 'l', 'o', 'e', 'w', 'i', 't', 's']"
      ]
     },
     "execution_count": 18,
     "metadata": {},
     "output_type": "execute_result"
    }
   ],
   "source": [
    "mylist"
   ]
  },
  {
   "cell_type": "code",
   "execution_count": 20,
   "metadata": {},
   "outputs": [
    {
     "data": {
      "text/plain": [
       "['C', 'a', 'l', 'o', 't', 'f', 'l', 'o', 'e', 'w', 'i', 't', 's']"
      ]
     },
     "execution_count": 20,
     "metadata": {},
     "output_type": "execute_result"
    }
   ],
   "source": [
    "#using list comprehension\n",
    "[word[0] for word in st.split()]"
   ]
  },
  {
   "cell_type": "markdown",
   "metadata": {},
   "source": [
    "### Great Job!"
   ]
  }
 ],
 "metadata": {
  "kernelspec": {
   "display_name": "Python 3",
   "language": "python",
   "name": "python3"
  },
  "language_info": {
   "codemirror_mode": {
    "name": "ipython",
    "version": 3
   },
   "file_extension": ".py",
   "mimetype": "text/x-python",
   "name": "python",
   "nbconvert_exporter": "python",
   "pygments_lexer": "ipython3",
   "version": "3.7.3"
  }
 },
 "nbformat": 4,
 "nbformat_minor": 1
}
