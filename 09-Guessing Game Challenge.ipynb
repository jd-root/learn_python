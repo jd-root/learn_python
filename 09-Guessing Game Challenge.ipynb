{
 "cells": [
  {
   "cell_type": "markdown",
   "metadata": {},
   "source": [
    "# Guessing Game Challenge\n",
    "\n",
    "Let's use `while` loops to create a guessing game.\n",
    "\n",
    "The Challenge:\n",
    "\n",
    "Write a program that picks a random integer from 1 to 100, and has players guess the number. The rules are:\n",
    "\n",
    "1. If a player's guess is less than 1 or greater than 100, say \"OUT OF BOUNDS\"\n",
    "2. On a player's first turn, if their guess is\n",
    " * within 10 of the number, return \"WARM!\"\n",
    " * further than 10 away from the number, return \"COLD!\"\n",
    "3. On all subsequent turns, if a guess is \n",
    " * closer to the number than the previous guess return \"WARMER!\"\n",
    " * farther from the number than the previous guess, return \"COLDER!\"\n",
    "4. When the player's guess equals the number, tell them they've guessed correctly *and* how many guesses it took!\n",
    "\n",
    "You can try this from scratch, or follow the steps outlined below. A separate Solution notebook has been provided. Good luck!\n"
   ]
  },
  {
   "cell_type": "markdown",
   "metadata": {},
   "source": [
    "#### First, pick a random integer from 1 to 100 using the random module and assign it to a variable\n",
    "\n",
    "Note: `random.randint(a,b)` returns a random integer in range `[a, b]`, including both end points."
   ]
  },
  {
   "cell_type": "code",
   "execution_count": 1,
   "metadata": {},
   "outputs": [
    {
     "data": {
      "text/plain": [
       "14"
      ]
     },
     "execution_count": 1,
     "metadata": {},
     "output_type": "execute_result"
    }
   ],
   "source": [
    "#import random module\n",
    "import random\n",
    "mynum = random.randint(1,100)\n",
    "mynum"
   ]
  },
  {
   "cell_type": "markdown",
   "metadata": {},
   "source": [
    "#### Next, print an introduction to the game and explain the rules"
   ]
  },
  {
   "cell_type": "code",
   "execution_count": null,
   "metadata": {},
   "outputs": [],
   "source": [
    "print('WELCOME to the GUESSING GAME!!!')\n",
    "print(\"I'm thinking of a number between 1 and 100\")\n",
    "print(\"If your guess is within 10 of my NUMBER then it's getiing WARM!\")\n",
    "print(\"Guess again!!!\")\n",
    "print(\"If your guess is above 10 of my NUMBER then it's getting COLD!\")\n",
    "print(\"Guess again!!!\")\n",
    "print(\"If your guess is closer to your previous guess then it's getting WARMER!\")\n",
    "print(\"If your guess is farther than your previous guess then it's getting COLDER!\")\n",
    "print(\"LET's BEGIN!!!\")\n"
   ]
  },
  {
   "cell_type": "markdown",
   "metadata": {},
   "source": [
    "#### Create a list to store guesses\n",
    "\n",
    "Hint: zero is a good placeholder value. It's useful because it evaluates to \"False\""
   ]
  },
  {
   "cell_type": "code",
   "execution_count": 2,
   "metadata": {},
   "outputs": [
    {
     "data": {
      "text/plain": [
       "[0]"
      ]
     },
     "execution_count": 2,
     "metadata": {},
     "output_type": "execute_result"
    }
   ],
   "source": [
    "guesses = [0]\n",
    "guesses"
   ]
  },
  {
   "cell_type": "markdown",
   "metadata": {},
   "source": [
    "#### Write a `while` loop that asks for a valid guess. Test it a few times to make sure it works."
   ]
  },
  {
   "cell_type": "code",
   "execution_count": null,
   "metadata": {},
   "outputs": [],
   "source": [
    "while True:\n",
    "    guess = int(input(\"I'm guessing a number between 1 and 100.\\nWhat's your guess?\"))\n",
    "    \n",
    "    if guess < 1 or guess > 100:\n",
    "        print(\"OUT OF BOUNDS! Try again:\")\n",
    "        continue\n",
    "    break"
   ]
  },
  {
   "cell_type": "markdown",
   "metadata": {},
   "source": [
    "#### Write a `while` loop that compares the player's guess to our number. If the player guesses correctly, break from the loop. Otherwise, tell the player if they're warmer or colder, and continue asking for guesses.\n",
    "\n",
    "Some hints:\n",
    "* it may help to sketch out all possible combinations on paper first!\n",
    "* you can use the `abs()` function to find the positive difference between two numbers\n",
    "* if you append all new guesses to the list, then the previous guess is given as `guesses[-2]`"
   ]
  },
  {
   "cell_type": "code",
   "execution_count": 3,
   "metadata": {},
   "outputs": [
    {
     "name": "stdout",
     "output_type": "stream",
     "text": [
      "I'm guessing a number between 1 and 100.\n",
      "What's your guess? 50\n",
      "COLD!!!\n",
      "I'm guessing a number between 1 and 100.\n",
      "What's your guess? 60\n",
      "COLDER!!!\n",
      "I'm guessing a number between 1 and 100.\n",
      "What's your guess? 30\n",
      "WARMER!!!\n",
      "I'm guessing a number between 1 and 100.\n",
      "What's your guess? 20\n",
      "WARMER!!!\n",
      "I'm guessing a number between 1 and 100.\n",
      "What's your guess? 15\n",
      "WARMER!!!\n",
      "I'm guessing a number between 1 and 100.\n",
      "What's your guess? 16\n",
      "COLDER!!!\n",
      "I'm guessing a number between 1 and 100.\n",
      "What's your guess? 14\n",
      "CONGRATULATIONS!!!You guessed the number correctly. Number of attempts = 7\n"
     ]
    }
   ],
   "source": [
    "while True:\n",
    "    guess = int(input(\"I'm guessing a number between 1 and 100.\\nWhat's your guess? \"))\n",
    "    \n",
    "    if guess < 1 or guess > 100:\n",
    "        print(\"OUT OF BOUNDS! Try again:\")\n",
    "        continue\n",
    "    if guess == mynum:\n",
    "        print(f'CONGRATULATIONS!!!You guessed the number correctly. Number of attempts = {len(guesses)}')\n",
    "        break\n",
    "    \n",
    "    guesses.append(guess)\n",
    "    \n",
    "    if guesses[-2]:\n",
    "        if abs(mynum - guess) > abs(mynum - guesses[-2]):\n",
    "            print('COLDER!!!')\n",
    "        else:\n",
    "            print('WARMER!!!')\n",
    "    else:\n",
    "        if abs(mynum - guess) <= 10:\n",
    "            print('WARM!!!')\n",
    "        else:\n",
    "            print('COLD!!!')\n"
   ]
  },
  {
   "cell_type": "markdown",
   "metadata": {},
   "source": [
    "That's it! You've just programmed your first game!\n",
    "\n",
    "In the next section we'll learn how to turn some of these repetitive actions into *functions* that can be called whenever we need them."
   ]
  },
  {
   "cell_type": "markdown",
   "metadata": {},
   "source": [
    "### Good Job!"
   ]
  }
 ],
 "metadata": {
  "kernelspec": {
   "display_name": "Python 3",
   "language": "python",
   "name": "python3"
  },
  "language_info": {
   "codemirror_mode": {
    "name": "ipython",
    "version": 3
   },
   "file_extension": ".py",
   "mimetype": "text/x-python",
   "name": "python",
   "nbconvert_exporter": "python",
   "pygments_lexer": "ipython3",
   "version": "3.7.3"
  }
 },
 "nbformat": 4,
 "nbformat_minor": 2
}
